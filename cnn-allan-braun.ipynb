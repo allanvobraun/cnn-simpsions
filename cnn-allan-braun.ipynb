{
 "cells": [
  {
   "cell_type": "markdown",
   "metadata": {},
   "source": [
    "# Visão Computacional - PUCPR"
   ]
  },
  {
   "cell_type": "markdown",
   "source": [
    "# Trabalho 3 visão computacional\n",
    "## PJBL3 - CNN - Simpsons Classification\n",
    "Allan Braun\n",
    "Bruna Lima Farias\n",
    "Matheus Bertho"
   ],
   "metadata": {
    "collapsed": false
   }
  },
  {
   "cell_type": "markdown",
   "source": [
    "# Materiais e métodos"
   ],
   "metadata": {
    "collapsed": false
   }
  },
  {
   "cell_type": "markdown",
   "source": [
    "Dataset:\n",
    "\n",
    "Utilizado o mesmo dataset do trabalho anterior, este consta imagens que se classificam entre: bart, family, homer, lisa, maggie e marge.\n",
    "Foram removidas as imagens da classe family por orientação do professor.\n",
    "Essa base foi dividida entre 80% para treinamento e 20% para validação\n",
    "Além disso todas as imagens foram flipadas com o intuíto de aumentar o tamanho do dataset e prover mais insformações para a rede.\n",
    "(Data Augmentation)\n",
    "\n",
    "Modelo:\n",
    "Como modelo irá ser utilizada CNN com 5 layers e outra do estado da arte através da biblioteca tensorflow"
   ],
   "metadata": {
    "collapsed": false
   }
  },
  {
   "cell_type": "code",
   "execution_count": 1,
   "metadata": {},
   "outputs": [
    {
     "name": "stderr",
     "output_type": "stream",
     "text": [
      "2022-11-18 23:22:14.751314: W tensorflow/stream_executor/platform/default/dso_loader.cc:64] Could not load dynamic library 'libcudart.so.11.0'; dlerror: libcudart.so.11.0: cannot open shared object file: No such file or directory\n",
      "2022-11-18 23:22:14.751365: I tensorflow/stream_executor/cuda/cudart_stub.cc:29] Ignore above cudart dlerror if you do not have a GPU set up on your machine.\n"
     ]
    }
   ],
   "source": [
    "import numpy as np\n",
    "import pandas as pd\n",
    "\n",
    "import matplotlib.pyplot as plt\n",
    "\n",
    "from sklearn.metrics import classification_report, \\\n",
    "                            confusion_matrix, \\\n",
    "                            ConfusionMatrixDisplay\n",
    "\n",
    "import tensorflow as tf\n",
    "from tensorflow.keras import datasets, layers, models, losses"
   ]
  },
  {
   "cell_type": "code",
   "execution_count": 22,
   "metadata": {},
   "outputs": [],
   "source": [
    "# configurações seeds e warnings\n",
    "seed_number = 42\n",
    "tf.random.set_seed(seed_number)\n",
    "np.random.seed(seed_number)\n",
    "\n",
    "tf.compat.v1.logging.set_verbosity(tf.compat.v1.logging.ERROR)\n",
    "\n",
    "import warnings\n",
    "warnings.filterwarnings('ignore')"
   ]
  },
  {
   "cell_type": "code",
   "execution_count": 4,
   "metadata": {},
   "outputs": [],
   "source": [
    "# função utilitária para desempenho das redes neurais\n",
    "\n",
    "def plot_history(history, figsize=(8,4)):\n",
    "    fig, ax = plt.subplots(1,2, figsize=figsize)\n",
    "\n",
    "    for i, field in enumerate(['acc', 'loss']):\n",
    "        ax[i].plot(history.history[field])\n",
    "        ax[i].plot(history.history[f'val_{field}'])\n",
    "        ax[i].set_title(f'model {field}')\n",
    "        ax[i].set_ylabel(field)\n",
    "        ax[i].set_xlabel('epoch')\n",
    "        ax[i].legend(['train', 'val'], loc='upper left')\n",
    "    \n",
    "    plt.tight_layout()\n",
    "    plt.show()"
   ]
  },
  {
   "cell_type": "markdown",
   "metadata": {},
   "source": [
    "## Separação dos dados"
   ]
  },
  {
   "cell_type": "code",
   "execution_count": 26,
   "metadata": {},
   "outputs": [],
   "source": [
    "# informações dos dados\n",
    "\n",
    "dataset = 'simpsons'\n",
    "batch_size_ = 32\n",
    "input_shape_ = (315, 390, 3)\n",
    "class_names = ['bart', 'homer', 'lisa', 'maggie', 'marge']\n",
    "num_classes = len(class_names)"
   ]
  },
  {
   "cell_type": "code",
   "execution_count": 27,
   "metadata": {},
   "outputs": [
    {
     "name": "stdout",
     "output_type": "stream",
     "text": [
      "Found 321 files belonging to 5 classes.\n",
      "Using 257 files for training.\n",
      "Using 64 files for validation.\n"
     ]
    }
   ],
   "source": [
    "# carregando as imagens do diretório\n",
    "\n",
    "X_train, X_val = tf.keras.utils.image_dataset_from_directory(\n",
    "    f'./simpsons/',\n",
    "    seed=seed_number,\n",
    "    subset='both',\n",
    "    validation_split=.2,\n",
    "    image_size=(input_shape_[0], input_shape_[1]),\n",
    "    batch_size=batch_size_\n",
    ")"
   ]
  },
  {
   "cell_type": "code",
   "execution_count": 28,
   "metadata": {},
   "outputs": [
    {
     "data": {
      "text/plain": [
       "(TensorShape([257]), TensorShape([64]))"
      ]
     },
     "execution_count": 28,
     "metadata": {},
     "output_type": "execute_result"
    }
   ],
   "source": [
    "y_train = tf.concat([y for x, y in X_train], axis=0)\n",
    "y_val = tf.concat([y for x, y in X_val], axis=0)\n",
    "\n",
    "y_train.shape, y_val.shape"
   ]
  },
  {
   "cell_type": "markdown",
   "metadata": {},
   "source": [
    "# 2) Experimentos"
   ]
  },
  {
   "cell_type": "markdown",
   "metadata": {},
   "source": [
    "## Rede CNN com 5 camadas\n",
    "Abaixo foi construida uma rede neural CNN com 5 camadas."
   ]
  },
  {
   "cell_type": "code",
   "execution_count": 23,
   "metadata": {},
   "outputs": [
    {
     "name": "stdout",
     "output_type": "stream",
     "text": [
      "Model: \"sequential_4\"\n",
      "_________________________________________________________________\n",
      " Layer (type)                Output Shape              Param #   \n",
      "=================================================================\n",
      " rescaling_2 (Rescaling)     (None, 315, 390, 3)       0         \n",
      "                                                                 \n",
      " conv2d_6 (Conv2D)           (None, 313, 388, 32)      896       \n",
      "                                                                 \n",
      " max_pooling2d_4 (MaxPooling  (None, 156, 194, 32)     0         \n",
      " 2D)                                                             \n",
      "                                                                 \n",
      " conv2d_7 (Conv2D)           (None, 154, 192, 64)      18496     \n",
      "                                                                 \n",
      " max_pooling2d_5 (MaxPooling  (None, 77, 96, 64)       0         \n",
      " 2D)                                                             \n",
      "                                                                 \n",
      " conv2d_8 (Conv2D)           (None, 75, 94, 64)        36928     \n",
      "                                                                 \n",
      " flatten_3 (Flatten)         (None, 451200)            0         \n",
      "                                                                 \n",
      " dense_6 (Dense)             (None, 128)               57753728  \n",
      "                                                                 \n",
      " dense_7 (Dense)             (None, 5)                 645       \n",
      "                                                                 \n",
      "=================================================================\n",
      "Total params: 57,810,693\n",
      "Trainable params: 57,810,693\n",
      "Non-trainable params: 0\n",
      "_________________________________________________________________\n"
     ]
    }
   ],
   "source": [
    "# criando a arquitetura da rede\n",
    "\n",
    "model = models.Sequential()\n",
    "\n",
    "# Uma camada de pré-processamento que redimensiona os valores de entrada para um novo intervalo.\n",
    "model.add(layers.Rescaling(1./255, input_shape=input_shape_))\n",
    "\n",
    "# Keras Conv2D é uma Camada de Convolução 2D, esta camada cria um kernel de convolução que é enrolado com entrada de camadas que ajuda a produzir um tensor de saídas.\n",
    "model.add(layers.Conv2D(32, (3, 3), activation='relu'))\n",
    "model.add(layers.MaxPooling2D((2, 2))) # camada de pooling\n",
    "model.add(layers.Conv2D(64, (3, 3), activation='relu'))\n",
    "model.add(layers.MaxPooling2D((2, 2)))\n",
    "model.add(layers.Conv2D(64, (3, 3), activation='relu'))\n",
    "\n",
    "# A Flatten nivela os tensores de entrada multidimensionais em uma única dimensão\n",
    "model.add(layers.Flatten())\n",
    "# Neurônios na camada densa obtêm sua fonte de dados de entrada de todos os outros neurônios da camada anterior da rede.\n",
    "# A função relu retorna 0 se receber qualquer entrada negativa, mas para qualquer valor positivo x ela retorna esse valor\n",
    "model.add(layers.Dense(128, activation='relu'))\n",
    "# função de regreção logistica\n",
    "model.add(layers.Dense(num_classes,activation='softmax'))\n",
    "\n",
    "model.summary()"
   ]
  },
  {
   "cell_type": "code",
   "execution_count": null,
   "metadata": {},
   "outputs": [],
   "source": [
    "# compilação e treinamento\n",
    "\n",
    "epochs_ = 20\n",
    "\n",
    "model.compile(\n",
    "    optimizer='Adam',\n",
    "    loss='sparse_categorical_crossentropy',\n",
    "    metrics=['acc']\n",
    ")\n",
    "\n",
    "history = model.fit(\n",
    "    X_train,\n",
    "    batch_size=batch_size_,\n",
    "    epochs=epochs_,\n",
    "    validation_data=X_val\n",
    ")"
   ]
  },
  {
   "cell_type": "code",
   "execution_count": null,
   "metadata": {},
   "outputs": [],
   "source": [
    "plot_history(history)"
   ]
  },
  {
   "cell_type": "code",
   "execution_count": null,
   "metadata": {},
   "outputs": [],
   "source": [
    "print('reasultado do evaluate =', model.evaluate(X_val, verbose=0))\n",
    "\n",
    "y_pred = model.predict(X_val)\n",
    "y_pred = np.argmax(y_pred, axis=1)\n",
    "\n",
    "print(classification_report(y_val, y_pred))\n",
    "\n",
    "cm = confusion_matrix(y_val, y_pred)\n",
    "cm_plot = ConfusionMatrixDisplay(cm, display_labels=class_names)\n",
    "cm_plot.plot(cmap='viridis_r');"
   ]
  },
  {
   "cell_type": "markdown",
   "metadata": {},
   "source": [
    "## Rede CNN de 5 camadas com dropout e Data Augmentation"
   ]
  },
  {
   "cell_type": "code",
   "execution_count": 29,
   "metadata": {},
   "outputs": [],
   "source": [
    "# data augmentation: criando imagens sintéticas a partir\n",
    "# das imagens originais flipando elas horizontalmente\n",
    "\n",
    "data_augmentation_layer = tf.keras.Sequential([\n",
    "    layers.RandomFlip('horizontal', input_shape=input_shape_),\n",
    "    layers.RandomRotation(0.1),\n",
    "    layers.RandomZoom(0.1)\n",
    "])"
   ]
  },
  {
   "cell_type": "code",
   "execution_count": 30,
   "metadata": {},
   "outputs": [
    {
     "data": {
      "image/png": "[encoded data removed]",
      "text/plain": [
       "<Figure size 432x288 with 9 Axes>"
      ]
     },
     "metadata": {
      "needs_background": "light"
     },
     "output_type": "display_data"
    }
   ],
   "source": [
    "# mostrando disferentes layers de uma imagem utilizando o data_augmentation\n",
    "for images, _ in X_train.take(1):\n",
    "    for i in range(9):\n",
    "        augmented_images = data_augmentation_layer(images)\n",
    "        ax = plt.subplot(3, 3, i + 1)\n",
    "        plt.imshow(augmented_images[0].numpy().astype('uint8'))\n",
    "        plt.axis('off')"
   ]
  },
  {
   "cell_type": "code",
   "execution_count": 14,
   "metadata": {},
   "outputs": [],
   "source": [
    "# rede cnn com data augmentation e dropout com o intúito de reduzir a possibilidade da rede se tornar viciada\n",
    "\n",
    "model = tf.keras.Sequential([\n",
    "    data_augmentation_layer,  \n",
    "    layers.Rescaling(1./255, input_shape=(96, 96, 3)),\n",
    "\n",
    "    layers.Conv2D(32, 3, padding='same', activation='relu'),\n",
    "    layers.MaxPooling2D(),\n",
    "    layers.Conv2D(64, 3, padding='same', activation='relu'),\n",
    "    layers.MaxPooling2D(),\n",
    "    layers.Conv2D(64, 3, padding='same', activation='relu'),  \n",
    "    layers.Dropout(0.2),\n",
    "    layers.Flatten(),\n",
    "    \n",
    "    layers.Dense(128, activation='relu'),\n",
    "    layers.Dense(num_classes, activation='softmax')\n",
    "])"
   ]
  },
  {
   "cell_type": "code",
   "execution_count": 15,
   "metadata": {},
   "outputs": [
    {
     "name": "stdout",
     "output_type": "stream",
     "text": [
      "Epoch 1/20\n",
      "11/11 [==============================] - 64s 5s/step - loss: 7.8186 - acc: 0.3214 - val_loss: 1.4670 - val_acc: 0.4217\n",
      "Epoch 2/20\n",
      "11/11 [==============================] - 58s 5s/step - loss: 1.3765 - acc: 0.3839 - val_loss: 1.2357 - val_acc: 0.5663\n",
      "Epoch 3/20\n",
      "11/11 [==============================] - 58s 5s/step - loss: 1.1893 - acc: 0.4762 - val_loss: 1.3007 - val_acc: 0.4699\n",
      "Epoch 4/20\n",
      "11/11 [==============================] - 58s 5s/step - loss: 1.0659 - acc: 0.5446 - val_loss: 1.2985 - val_acc: 0.5542\n",
      "Epoch 5/20\n",
      "11/11 [==============================] - 61s 6s/step - loss: 0.9340 - acc: 0.5655 - val_loss: 1.4349 - val_acc: 0.5904\n",
      "Epoch 6/20\n",
      "11/11 [==============================] - 66s 6s/step - loss: 0.8893 - acc: 0.5863 - val_loss: 1.4153 - val_acc: 0.5904\n",
      "Epoch 7/20\n",
      "11/11 [==============================] - 67s 6s/step - loss: 0.8105 - acc: 0.6161 - val_loss: 1.3890 - val_acc: 0.5783\n",
      "Epoch 8/20\n",
      "11/11 [==============================] - 64s 6s/step - loss: 0.8451 - acc: 0.6339 - val_loss: 1.1584 - val_acc: 0.5783\n",
      "Epoch 9/20\n",
      "11/11 [==============================] - 60s 5s/step - loss: 0.7621 - acc: 0.6399 - val_loss: 1.2114 - val_acc: 0.6145\n",
      "Epoch 10/20\n",
      "11/11 [==============================] - 59s 5s/step - loss: 0.7134 - acc: 0.6935 - val_loss: 1.3934 - val_acc: 0.5904\n",
      "Epoch 11/20\n",
      "11/11 [==============================] - 55s 5s/step - loss: 0.7112 - acc: 0.6815 - val_loss: 1.3608 - val_acc: 0.6145\n",
      "Epoch 12/20\n",
      "11/11 [==============================] - 61s 6s/step - loss: 0.6388 - acc: 0.7173 - val_loss: 1.4268 - val_acc: 0.6024\n",
      "Epoch 13/20\n",
      "11/11 [==============================] - 60s 5s/step - loss: 0.6369 - acc: 0.7262 - val_loss: 1.5164 - val_acc: 0.6024\n",
      "Epoch 14/20\n",
      "11/11 [==============================] - 55s 5s/step - loss: 0.6889 - acc: 0.6935 - val_loss: 1.4563 - val_acc: 0.6386\n",
      "Epoch 15/20\n",
      "11/11 [==============================] - 56s 5s/step - loss: 0.6270 - acc: 0.7083 - val_loss: 1.6507 - val_acc: 0.6024\n",
      "Epoch 16/20\n",
      "11/11 [==============================] - 57s 5s/step - loss: 0.6171 - acc: 0.7440 - val_loss: 1.6943 - val_acc: 0.5904\n",
      "Epoch 17/20\n",
      "11/11 [==============================] - 59s 5s/step - loss: 0.5446 - acc: 0.7500 - val_loss: 1.4067 - val_acc: 0.6627\n",
      "Epoch 18/20\n",
      "11/11 [==============================] - 59s 5s/step - loss: 0.5702 - acc: 0.7530 - val_loss: 1.4964 - val_acc: 0.6145\n",
      "Epoch 19/20\n",
      "11/11 [==============================] - 54s 5s/step - loss: 0.5548 - acc: 0.7411 - val_loss: 1.6617 - val_acc: 0.6145\n",
      "Epoch 20/20\n",
      "11/11 [==============================] - 55s 5s/step - loss: 0.5198 - acc: 0.7649 - val_loss: 1.7937 - val_acc: 0.6145\n"
     ]
    }
   ],
   "source": [
    "# compilação e treinamento\n",
    "\n",
    "model.compile(\n",
    "    optimizer='Adam',\n",
    "    loss='sparse_categorical_crossentropy',\n",
    "    metrics=['acc']\n",
    ")\n",
    "\n",
    "history = model.fit(\n",
    "    X_train,\n",
    "    batch_size=batch_size_,\n",
    "    epochs=epochs_,\n",
    "    validation_data=X_val\n",
    ")"
   ]
  },
  {
   "cell_type": "code",
   "execution_count": null,
   "metadata": {},
   "outputs": [],
   "source": [
    "plot_history(history)"
   ]
  },
  {
   "cell_type": "code",
   "execution_count": null,
   "metadata": {},
   "outputs": [],
   "source": [
    "# resultados e matriz de confusão\n",
    "\n",
    "print('resultado do evaluate =', model.evaluate(X_val, verbose=0))\n",
    "\n",
    "y_pred = model.predict(X_val)\n",
    "y_pred = np.argmax(y_pred, axis=1)\n",
    "\n",
    "print(classification_report(y_val, y_pred))\n",
    "\n",
    "cm = confusion_matrix(y_val, y_pred)\n",
    "cm_plot = ConfusionMatrixDisplay(cm, display_labels=class_names)\n",
    "cm_plot.plot(cmap='viridis_r');"
   ]
  },
  {
   "cell_type": "markdown",
   "metadata": {},
   "source": [
    "## Rede ResNet50 e Transfer Learning"
   ]
  },
  {
   "cell_type": "markdown",
   "metadata": {},
   "source": [
    "Foi utilizada a rede ResNet50 para realizar um Transfer Learning, isto é, transferir o aprendizado de uma rede para outra tarefa. Foram treinadas somente as últimas camadas da rede com as imagens dos simpsons, e a ideia é comparar com as outras técnicas e arquiteturas utilizadas."
   ]
  },
  {
   "cell_type": "code",
   "execution_count": 18,
   "metadata": {},
   "outputs": [
    {
     "name": "stdout",
     "output_type": "stream",
     "text": [
      "Model: \"sequential_3\"\n",
      "_________________________________________________________________\n",
      " Layer (type)                Output Shape              Param #   \n",
      "=================================================================\n",
      " resnet50 (Functional)       (None, 10, 13, 2048)      23587712  \n",
      "                                                                 \n",
      " flatten_2 (Flatten)         (None, 266240)            0         \n",
      "                                                                 \n",
      " dense_4 (Dense)             (None, 128)               34078848  \n",
      "                                                                 \n",
      " dense_5 (Dense)             (None, 5)                 645       \n",
      "                                                                 \n",
      "=================================================================\n",
      "Total params: 57,667,205\n",
      "Trainable params: 57,614,085\n",
      "Non-trainable params: 53,120\n",
      "_________________________________________________________________\n"
     ]
    }
   ],
   "source": [
    "# resnet50\n",
    "conv_layers =  tf.keras.applications.resnet50.ResNet50(\n",
    "    weights=None,\n",
    "    include_top=False,\n",
    "    input_tensor=tf.keras.layers.Input(input_shape_),\n",
    "    classes=num_classes\n",
    ")\n",
    "\n",
    "conv_layers.trainable = True\n",
    "\n",
    "# conv layers\n",
    "model = tf.keras.Sequential([  \n",
    "  conv_layers,    \n",
    "  layers.Flatten(),\n",
    "  layers.Dense(128, activation='relu'),\n",
    "  layers.Dense(num_classes, activation='softmax')\n",
    "])\n",
    "\n",
    "model.summary()"
   ]
  },
  {
   "cell_type": "code",
   "execution_count": null,
   "metadata": {},
   "outputs": [],
   "source": [
    "# compilação e treinamento\n",
    "# são feitas em 10 épocas devido ao custo computacional\n",
    "\n",
    "epochs_ = 10\n",
    "\n",
    "model.compile(\n",
    "    optimizer='Adam',\n",
    "    loss='sparse_categorical_crossentropy',\n",
    "    metrics=['acc']\n",
    ")\n",
    "\n",
    "history = model.fit(\n",
    "    X_train,\n",
    "    batch_size=batch_size_,\n",
    "    epochs=epochs_,\n",
    "    validation_data=X_val)"
   ]
  },
  {
   "cell_type": "code",
   "execution_count": null,
   "metadata": {},
   "outputs": [],
   "source": [
    "plot_history(history)"
   ]
  },
  {
   "cell_type": "code",
   "execution_count": null,
   "metadata": {},
   "outputs": [],
   "source": [
    "print('resultado do evaluate =', model.evaluate(X_val, verbose=0))\n",
    "\n",
    "y_pred = model.predict(X_val)\n",
    "y_pred = np.argmax(y_pred, axis=1)\n",
    "\n",
    "print(classification_report(y_val, y_pred))\n",
    "\n",
    "cm = confusion_matrix(y_val, y_pred)\n",
    "cm_plot = ConfusionMatrixDisplay(cm, display_labels=class_names)\n",
    "cm_plot.plot(cmap='viridis_r');"
   ]
  },
  {
   "cell_type": "markdown",
   "metadata": {},
   "source": [
    "# Discussão Crítica"
   ]
  },
  {
   "cell_type": "markdown",
   "metadata": {},
   "source": [
    "**As redes neurais foram melhores que os modelos clássicos de ML? (PBL2)**\n",
    "\n",
    "Foi observado desempenho superior em relação aos modelos clássicos Os modelos de CNN conseguem resultados muito mais precisos, evidenciando sua facilidade em trabalhar com imagens. \n",
    "Sendo que também a rede neural se destaca pela facilidade, e o tabalho manual de se aplicar filtros é nulo comparado aos modelos classicos.\n",
    "\n",
    "**A utilização de dropout e data augmentation foi eficaz?**\n",
    "\n",
    "Sim, ao utilizarmos as técnicas observamos melhoras de até 10% em relação ao uso da rede inicial.\n",
    "Principais motivos são que essas técnicas diminuem o \"vício\" da rede neural nas imagens, e possibilitam que classes desbalancedas tenham mais relevancia na rede.\n",
    "\n",
    "**A utilização do Transfer Learning foi eficaz?**\n",
    "\n",
    "Não, no exemplo deste trabalho, concluímos que para o Transfer Learning ser eficaz, diminuindo o tempo de treinamento. "
   ]
  }
 ],
 "metadata": {
  "kernelspec": {
   "display_name": "Python 3.9.7 ('base')",
   "language": "python",
   "name": "python3"
  },
  "language_info": {
   "codemirror_mode": {
    "name": "ipython",
    "version": 3
   },
   "file_extension": ".py",
   "mimetype": "text/x-python",
   "name": "python",
   "nbconvert_exporter": "python",
   "pygments_lexer": "ipython3",
   "version": "3.9.7"
  },
  "orig_nbformat": 4,
  "vscode": {
   "interpreter": {
    "hash": "30f07e33239fa8282e26e15725321d07a8b0c67c5d45bbf6a7e3668dfd7ffdbf"
   }
  }
 },
 "nbformat": 4,
 "nbformat_minor": 2
}